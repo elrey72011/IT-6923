{
 "cells": [
  {
   "metadata": {
    "ExecuteTime": {
     "end_time": "2025-01-30T19:19:41.776431Z",
     "start_time": "2025-01-30T19:19:41.773734Z"
    }
   },
   "cell_type": "code",
   "source": "# Part 1 Deliverable - Submit source code for blockchain implementation",
   "id": "d51f0368e01408c4",
   "outputs": [],
   "execution_count": 26
  },
  {
   "metadata": {
    "ExecuteTime": {
     "end_time": "2025-01-30T19:19:41.787239Z",
     "start_time": "2025-01-30T19:19:41.778439Z"
    }
   },
   "cell_type": "code",
   "source": "import hashlib",
   "id": "4b9c371609581b30",
   "outputs": [],
   "execution_count": 27
  },
  {
   "metadata": {
    "ExecuteTime": {
     "end_time": "2025-01-30T19:19:41.798631Z",
     "start_time": "2025-01-30T19:19:41.792678Z"
    }
   },
   "cell_type": "code",
   "source": [
    "#Create a Block class\n",
    "class Block:\n",
    "    #Create a constructor for the Block class\n",
    "    def __init__(self, data, prev_hash):\n",
    "        self.data = data\n",
    "        self.prev_hash = prev_hash\n",
    "        self.hash = self.calc_hash()\n",
    "\n",
    "#Create a method that calculates the hash using SHA1\n",
    "    def calc_hash(self):\n",
    "        return hashlib.sha1((self.data + self.prev_hash).encode()).hexdigest()\n"
   ],
   "id": "3195d405ca850b35",
   "outputs": [],
   "execution_count": 28
  },
  {
   "metadata": {
    "ExecuteTime": {
     "end_time": "2025-01-30T19:19:41.809276Z",
     "start_time": "2025-01-30T19:19:41.803588Z"
    }
   },
   "cell_type": "code",
   "source": [
    "class Blockchain:\n",
    "    #Create constructor for the Blockchain class\n",
    "    def __init__(self):\n",
    "        self.chain = []\n",
    "        self.create_genesis_block()\n",
    "\n",
    "    #Create a method that creates the Genesis Block\n",
    "    def create_genesis_block(self):\n",
    "        genesis_block = Block(\"N\", \"0\")\n",
    "        self.chain.append(genesis_block)\n",
    "\n",
    "    #Create a method that creates a new block and appends to the blockchain (list)\n",
    "    def add_block(self,data):\n",
    "        prev_block = self.chain[-1]\n",
    "        new_block = Block(data, prev_block.hash)\n",
    "        self.chain.append(new_block)"
   ],
   "id": "21ef88f2c0d10f59",
   "outputs": [],
   "execution_count": 29
  },
  {
   "metadata": {
    "ExecuteTime": {
     "end_time": "2025-01-30T19:19:41.820077Z",
     "start_time": "2025-01-30T19:19:41.813104Z"
    }
   },
   "cell_type": "code",
   "source": [
    "#Test\n",
    "blockchain = Blockchain()"
   ],
   "id": "4de32c3969439649",
   "outputs": [],
   "execution_count": 30
  },
  {
   "metadata": {
    "ExecuteTime": {
     "end_time": "2025-01-30T19:19:41.830904Z",
     "start_time": "2025-01-30T19:19:41.825160Z"
    }
   },
   "cell_type": "code",
   "source": [
    "#Append blocks\n",
    "blockchain.add_block(\"N+1\")\n",
    "blockchain.add_block(\"N+2\")\n",
    "blockchain.add_block(\"N+3\")\n",
    "blockchain.add_block(\"N+4\")\n",
    "blockchain.add_block(\"N+5\")"
   ],
   "id": "96d37df5cc959995",
   "outputs": [],
   "execution_count": 31
  },
  {
   "metadata": {
    "ExecuteTime": {
     "end_time": "2025-01-30T19:19:41.842473Z",
     "start_time": "2025-01-30T19:19:41.836395Z"
    }
   },
   "cell_type": "code",
   "source": [
    "#Print and show the blockchain using SHA1\n",
    "print(\"Blockchain:\")\n",
    "for block in blockchain.chain:\n",
    "    print('data:', block.data)\n",
    "    print('Previous hash:', block.prev_hash)\n",
    "    print('Hash:', block.hash)\n",
    "    print(('Length of Hash:'), len(block.hash))\n",
    "    print()"
   ],
   "id": "58bbb0f1d8f8358e",
   "outputs": [
    {
     "name": "stdout",
     "output_type": "stream",
     "text": [
      "Blockchain:\n",
      "data: N\n",
      "Previous hash: 0\n",
      "Hash: b87d2c769ca0254c35433f2ad8b97866bb6f50df\n",
      "Length of Hash: 40\n",
      "\n",
      "data: N+1\n",
      "Previous hash: b87d2c769ca0254c35433f2ad8b97866bb6f50df\n",
      "Hash: 18336b68b84dba3649df879afe1ad37e3c68ed6e\n",
      "Length of Hash: 40\n",
      "\n",
      "data: N+2\n",
      "Previous hash: 18336b68b84dba3649df879afe1ad37e3c68ed6e\n",
      "Hash: c3a11d12b7f0953c7e6aa8de32bcb10be528bdc6\n",
      "Length of Hash: 40\n",
      "\n",
      "data: N+3\n",
      "Previous hash: c3a11d12b7f0953c7e6aa8de32bcb10be528bdc6\n",
      "Hash: 208c72d0f38b7cbbb039cc6c309a23df2d152057\n",
      "Length of Hash: 40\n",
      "\n",
      "data: N+4\n",
      "Previous hash: 208c72d0f38b7cbbb039cc6c309a23df2d152057\n",
      "Hash: 016f220aeeab595ef3b6dc976632dacd5c78c154\n",
      "Length of Hash: 40\n",
      "\n",
      "data: N+5\n",
      "Previous hash: 016f220aeeab595ef3b6dc976632dacd5c78c154\n",
      "Hash: 7353312f4b9daa1d2152b7257ab6b57a1b2229f0\n",
      "Length of Hash: 40\n",
      "\n"
     ]
    }
   ],
   "execution_count": 32
  }
 ],
 "metadata": {
  "kernelspec": {
   "display_name": "Python 3",
   "language": "python",
   "name": "python3"
  },
  "language_info": {
   "codemirror_mode": {
    "name": "ipython",
    "version": 2
   },
   "file_extension": ".py",
   "mimetype": "text/x-python",
   "name": "python",
   "nbconvert_exporter": "python",
   "pygments_lexer": "ipython2",
   "version": "2.7.6"
  }
 },
 "nbformat": 4,
 "nbformat_minor": 5
}
