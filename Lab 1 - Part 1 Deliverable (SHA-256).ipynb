{
 "cells": [
  {
   "cell_type": "code",
   "id": "initial_id",
   "metadata": {
    "collapsed": true,
    "ExecuteTime": {
     "end_time": "2025-01-29T23:25:50.462177Z",
     "start_time": "2025-01-29T23:25:50.459160Z"
    }
   },
   "source": "# Part 1 Deliverable - Submit source code for blockchain implementation",
   "outputs": [],
   "execution_count": 55
  },
  {
   "metadata": {
    "ExecuteTime": {
     "end_time": "2025-01-29T23:25:50.472029Z",
     "start_time": "2025-01-29T23:25:50.464482Z"
    }
   },
   "cell_type": "code",
   "source": "import hashlib",
   "id": "4ff7af9fea8ec6db",
   "outputs": [],
   "execution_count": 56
  },
  {
   "metadata": {
    "ExecuteTime": {
     "end_time": "2025-01-29T23:25:50.482524Z",
     "start_time": "2025-01-29T23:25:50.477646Z"
    }
   },
   "cell_type": "code",
   "source": [
    "#Create a Block class\n",
    "class Block:\n",
    "    #Create a constructor for the Block class\n",
    "    def __init__(self, data, prev_hash):\n",
    "        self.data = data\n",
    "        self.prev_hash = prev_hash\n",
    "        self.hash = self.calc_hash()\n",
    "\n",
    "#Create a method that calculates the hash using SHA-256\n",
    "    def calc_hash(self):\n",
    "        sha = hashlib.sha256()\n",
    "        sha.update(self.data.encode('utf-8'))\n",
    "        return sha.hexdigest()"
   ],
   "id": "7c84e85d94914f28",
   "outputs": [],
   "execution_count": 57
  },
  {
   "metadata": {
    "ExecuteTime": {
     "end_time": "2025-01-29T23:25:50.493015Z",
     "start_time": "2025-01-29T23:25:50.487687Z"
    }
   },
   "cell_type": "code",
   "source": [
    "#Create the Blockchain class\n",
    "class Blockchain:\n",
    "    #Create a constructor for the Blockchain class\n",
    "    def __init__(self):\n",
    "        self.chain = [self.create_genesis_block()]\n",
    "\n",
    "    #Create a method that creates the first block in the blockchain also known as the 'Genesis Block'\n",
    "    def create_genesis_block(self):\n",
    "        return Block(\"N\", \"0\")\n",
    "\n",
    "    #Create a method that creates a new block and adds it to the blockchain (list)\n",
    "    def add_block(self, data):\n",
    "        prev_block = self.chain[-1]\n",
    "        new_block = Block(data, prev_block.hash )\n",
    "        self.chain.append(new_block)\n"
   ],
   "id": "9c2f9c5b91ec3b4a",
   "outputs": [],
   "execution_count": 58
  },
  {
   "metadata": {
    "ExecuteTime": {
     "end_time": "2025-01-29T23:25:50.503554Z",
     "start_time": "2025-01-29T23:25:50.498449Z"
    }
   },
   "cell_type": "code",
   "source": [
    "#Test the Blockchain\n",
    "blockchain = Blockchain()"
   ],
   "id": "db286f4807b2b728",
   "outputs": [],
   "execution_count": 59
  },
  {
   "metadata": {
    "ExecuteTime": {
     "end_time": "2025-01-29T23:25:50.514058Z",
     "start_time": "2025-01-29T23:25:50.508558Z"
    }
   },
   "cell_type": "code",
   "source": [
    "#Add blocks to the blockchain\n",
    "blockchain.add_block(\"N+1\")\n",
    "blockchain.add_block(\"N+2\")\n",
    "blockchain.add_block(\"N+3\")"
   ],
   "id": "c292696de7e6d690",
   "outputs": [],
   "execution_count": 60
  },
  {
   "metadata": {
    "ExecuteTime": {
     "end_time": "2025-01-29T23:25:50.524571Z",
     "start_time": "2025-01-29T23:25:50.519527Z"
    }
   },
   "cell_type": "code",
   "source": [
    "#Print and show the blockchain\n",
    "print('blockchain:')\n",
    "for block in blockchain.chain:\n",
    "    print('data:', block.data)\n",
    "    print('Previous hash:', block.prev_hash)\n",
    "    print('Hash:', block.hash)\n",
    "    print()"
   ],
   "id": "aab5274f82e6e142",
   "outputs": [
    {
     "name": "stdout",
     "output_type": "stream",
     "text": [
      "blockchain:\n",
      "data: N\n",
      "Previous hash: 0\n",
      "Hash: 8ce86a6ae65d3692e7305e2c58ac62eebd97d3d943e093f577da25c36988246b\n",
      "\n",
      "data: N+1\n",
      "Previous hash: 8ce86a6ae65d3692e7305e2c58ac62eebd97d3d943e093f577da25c36988246b\n",
      "Hash: d2cdbba992d9df8bd73a35369299991991d53e70ab46d11187ff476848f19478\n",
      "\n",
      "data: N+2\n",
      "Previous hash: d2cdbba992d9df8bd73a35369299991991d53e70ab46d11187ff476848f19478\n",
      "Hash: 737cc538ee6342d4d86690ff9263149924a572d0427c1d47125644f16a3a207a\n",
      "\n",
      "data: N+3\n",
      "Previous hash: 737cc538ee6342d4d86690ff9263149924a572d0427c1d47125644f16a3a207a\n",
      "Hash: 2447b3ffc863fbffe99da235c921bfa53565670561a775fba6434e51ccf9559b\n",
      "\n"
     ]
    }
   ],
   "execution_count": 61
  }
 ],
 "metadata": {
  "kernelspec": {
   "display_name": "Python 3",
   "language": "python",
   "name": "python3"
  },
  "language_info": {
   "codemirror_mode": {
    "name": "ipython",
    "version": 2
   },
   "file_extension": ".py",
   "mimetype": "text/x-python",
   "name": "python",
   "nbconvert_exporter": "python",
   "pygments_lexer": "ipython2",
   "version": "2.7.6"
  }
 },
 "nbformat": 4,
 "nbformat_minor": 5
}
