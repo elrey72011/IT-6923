{
 "cells": [
  {
   "cell_type": "code",
   "id": "initial_id",
   "metadata": {
    "collapsed": true,
    "ExecuteTime": {
     "end_time": "2025-01-30T19:19:32.218848Z",
     "start_time": "2025-01-30T19:19:32.215833Z"
    }
   },
   "source": "# Part 1 Deliverable - Submit source code for blockchain implementation",
   "outputs": [],
   "execution_count": 60
  },
  {
   "metadata": {
    "ExecuteTime": {
     "end_time": "2025-01-30T19:19:32.231760Z",
     "start_time": "2025-01-30T19:19:32.229455Z"
    }
   },
   "cell_type": "code",
   "source": "import hashlib",
   "id": "fcced04ca4acfbec",
   "outputs": [],
   "execution_count": 61
  },
  {
   "metadata": {
    "ExecuteTime": {
     "end_time": "2025-01-30T19:19:32.242795Z",
     "start_time": "2025-01-30T19:19:32.236977Z"
    }
   },
   "cell_type": "code",
   "source": [
    "#Create a Block class\n",
    "class Block:\n",
    "    #Create a constructor for the Block class\n",
    "    def __init__(self, data, prev_hash=\"0\"):\n",
    "        self.data = data\n",
    "        self.prev_hash = prev_hash\n",
    "        self.hash = self.calc_hash()\n",
    "#Create a method that calculates the hash using MD5\n",
    "    def calc_hash(self):\n",
    "        return hashlib.md5((self.data + self.prev_hash).encode()).hexdigest()\n",
    "\n"
   ],
   "id": "8be74cf3947be584",
   "outputs": [],
   "execution_count": 62
  },
  {
   "metadata": {
    "ExecuteTime": {
     "end_time": "2025-01-30T19:19:32.253644Z",
     "start_time": "2025-01-30T19:19:32.247051Z"
    }
   },
   "cell_type": "code",
   "source": [
    "class Blockchain:\n",
    "    #Create constructor for the Blockchain class\n",
    "    def __init__(self):\n",
    "        self.chain = []\n",
    "        self.create_genesis_block()\n",
    "\n",
    "    #Create a method that creates the Genesis Block\n",
    "    def create_genesis_block(self):\n",
    "        genesis_block = Block(\"N\")\n",
    "        self.chain.append(genesis_block)\n",
    "\n",
    "    #Create a method that creates a new block and appends to the blockchain (list)\n",
    "    def add_block(self,data):\n",
    "        prev_block = self.chain[-1]\n",
    "        new_block = Block(data, prev_block.hash)\n",
    "        self.chain.append(new_block)"
   ],
   "id": "e1c4970e40077176",
   "outputs": [],
   "execution_count": 63
  },
  {
   "metadata": {
    "ExecuteTime": {
     "end_time": "2025-01-30T19:19:32.264576Z",
     "start_time": "2025-01-30T19:19:32.258797Z"
    }
   },
   "cell_type": "code",
   "source": [
    "#Test\n",
    "blockchain = Blockchain()"
   ],
   "id": "f88eadba906a92d9",
   "outputs": [],
   "execution_count": 64
  },
  {
   "metadata": {
    "ExecuteTime": {
     "end_time": "2025-01-30T19:19:32.275363Z",
     "start_time": "2025-01-30T19:19:32.269603Z"
    }
   },
   "cell_type": "code",
   "source": [
    "#Append blocks\n",
    "blockchain.add_block(\"N+1\")\n",
    "blockchain.add_block(\"N+2\")\n",
    "blockchain.add_block(\"N+3\")\n",
    "blockchain.add_block(\"N+4\")\n",
    "blockchain.add_block(\"N+5\")"
   ],
   "id": "86e64696286141bd",
   "outputs": [],
   "execution_count": 65
  },
  {
   "metadata": {
    "ExecuteTime": {
     "end_time": "2025-01-30T19:19:32.286467Z",
     "start_time": "2025-01-30T19:19:32.280501Z"
    }
   },
   "cell_type": "code",
   "source": [
    "#Print and show the blockchain using MD5\n",
    "print(\"Blockchain:\")\n",
    "for block in blockchain.chain:\n",
    "    print('data:', block.data)\n",
    "    print('Previous hash:', block.prev_hash)\n",
    "    print('Hash:', block.hash)\n",
    "    print(('Length of Hash:'), len(block.hash))\n",
    "    print()"
   ],
   "id": "a6d42bf438a028f",
   "outputs": [
    {
     "name": "stdout",
     "output_type": "stream",
     "text": [
      "Blockchain:\n",
      "data: N\n",
      "Previous hash: 0\n",
      "Hash: 6b59730651c1344d678dee427c18b498\n",
      "Length of Hash: 32\n",
      "\n",
      "data: N+1\n",
      "Previous hash: 6b59730651c1344d678dee427c18b498\n",
      "Hash: 6f47e1c2e73893b62eed8169f90b7ae2\n",
      "Length of Hash: 32\n",
      "\n",
      "data: N+2\n",
      "Previous hash: 6f47e1c2e73893b62eed8169f90b7ae2\n",
      "Hash: 24f1d63f23cf5e54f52cb08173caa629\n",
      "Length of Hash: 32\n",
      "\n",
      "data: N+3\n",
      "Previous hash: 24f1d63f23cf5e54f52cb08173caa629\n",
      "Hash: 8588ad8536ef19e532d54e403bd5b161\n",
      "Length of Hash: 32\n",
      "\n",
      "data: N+4\n",
      "Previous hash: 8588ad8536ef19e532d54e403bd5b161\n",
      "Hash: 320304fcad9f69432e0472dedbc59da3\n",
      "Length of Hash: 32\n",
      "\n",
      "data: N+5\n",
      "Previous hash: 320304fcad9f69432e0472dedbc59da3\n",
      "Hash: 51846fde1b6a64159226ecf2d9f6c080\n",
      "Length of Hash: 32\n",
      "\n"
     ]
    }
   ],
   "execution_count": 66
  },
  {
   "metadata": {
    "ExecuteTime": {
     "end_time": "2025-01-30T19:19:32.294331Z",
     "start_time": "2025-01-30T19:19:32.291312Z"
    }
   },
   "cell_type": "code",
   "source": "",
   "id": "fe009ccabd84baf2",
   "outputs": [],
   "execution_count": null
  }
 ],
 "metadata": {
  "kernelspec": {
   "display_name": "Python 3",
   "language": "python",
   "name": "python3"
  },
  "language_info": {
   "codemirror_mode": {
    "name": "ipython",
    "version": 2
   },
   "file_extension": ".py",
   "mimetype": "text/x-python",
   "name": "python",
   "nbconvert_exporter": "python",
   "pygments_lexer": "ipython2",
   "version": "2.7.6"
  }
 },
 "nbformat": 4,
 "nbformat_minor": 5
}
